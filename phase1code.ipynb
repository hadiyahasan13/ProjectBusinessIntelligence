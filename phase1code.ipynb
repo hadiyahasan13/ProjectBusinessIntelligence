{
 "cells": [
  {
   "cell_type": "code",
   "execution_count": 1,
   "id": "e0953a57",
   "metadata": {},
   "outputs": [],
   "source": [
    "# import libraries\n",
    "import numpy as np \n",
    "import pandas as pd \n",
    "import matplotlib.pyplot as plt\n",
    "\n",
    "from IPython.display import display\n",
    "%matplotlib inline"
   ]
  },
  {
   "cell_type": "code",
   "execution_count": 62,
   "id": "e77460d1",
   "metadata": {},
   "outputs": [
    {
     "data": {
      "text/html": [
       "<div>\n",
       "<style scoped>\n",
       "    .dataframe tbody tr th:only-of-type {\n",
       "        vertical-align: middle;\n",
       "    }\n",
       "\n",
       "    .dataframe tbody tr th {\n",
       "        vertical-align: top;\n",
       "    }\n",
       "\n",
       "    .dataframe thead th {\n",
       "        text-align: right;\n",
       "    }\n",
       "</style>\n",
       "<table border=\"1\" class=\"dataframe\">\n",
       "  <thead>\n",
       "    <tr style=\"text-align: right;\">\n",
       "      <th></th>\n",
       "      <th>Row ID</th>\n",
       "      <th>Order ID</th>\n",
       "      <th>Order Date</th>\n",
       "      <th>Ship Date</th>\n",
       "      <th>Ship Mode</th>\n",
       "      <th>Customer ID</th>\n",
       "      <th>Customer Name</th>\n",
       "      <th>Segment</th>\n",
       "      <th>Country</th>\n",
       "      <th>City</th>\n",
       "      <th>State</th>\n",
       "      <th>Postal Code</th>\n",
       "      <th>Region</th>\n",
       "      <th>Product ID</th>\n",
       "      <th>Category</th>\n",
       "      <th>Sub-Category</th>\n",
       "      <th>Product Name</th>\n",
       "      <th>Sales</th>\n",
       "    </tr>\n",
       "  </thead>\n",
       "  <tbody>\n",
       "    <tr>\n",
       "      <th>0</th>\n",
       "      <td>1</td>\n",
       "      <td>CA-2017-152156</td>\n",
       "      <td>08-11-2017</td>\n",
       "      <td>11-11-2017</td>\n",
       "      <td>Second Class</td>\n",
       "      <td>CG-12520</td>\n",
       "      <td>Claire Gute</td>\n",
       "      <td>Consumer</td>\n",
       "      <td>United States</td>\n",
       "      <td>Henderson</td>\n",
       "      <td>Kentucky</td>\n",
       "      <td>42420.0</td>\n",
       "      <td>South</td>\n",
       "      <td>FUR-BO-10001798</td>\n",
       "      <td>Furniture</td>\n",
       "      <td>Bookcases</td>\n",
       "      <td>Bush Somerset Collection Bookcase</td>\n",
       "      <td>261.9600</td>\n",
       "    </tr>\n",
       "    <tr>\n",
       "      <th>1</th>\n",
       "      <td>2</td>\n",
       "      <td>CA-2017-152156</td>\n",
       "      <td>08-11-2017</td>\n",
       "      <td>11-11-2017</td>\n",
       "      <td>Second Class</td>\n",
       "      <td>CG-12520</td>\n",
       "      <td>Claire Gute</td>\n",
       "      <td>Consumer</td>\n",
       "      <td>United States</td>\n",
       "      <td>Henderson</td>\n",
       "      <td>Kentucky</td>\n",
       "      <td>42420.0</td>\n",
       "      <td>South</td>\n",
       "      <td>FUR-CH-10000454</td>\n",
       "      <td>Furniture</td>\n",
       "      <td>Chairs</td>\n",
       "      <td>Hon Deluxe Fabric Upholstered Stacking Chairs,...</td>\n",
       "      <td>731.9400</td>\n",
       "    </tr>\n",
       "    <tr>\n",
       "      <th>2</th>\n",
       "      <td>3</td>\n",
       "      <td>CA-2017-138688</td>\n",
       "      <td>12-06-2017</td>\n",
       "      <td>16-06-2017</td>\n",
       "      <td>Second Class</td>\n",
       "      <td>DV-13045</td>\n",
       "      <td>Darrin Van Huff</td>\n",
       "      <td>Corporate</td>\n",
       "      <td>United States</td>\n",
       "      <td>Los Angeles</td>\n",
       "      <td>California</td>\n",
       "      <td>90036.0</td>\n",
       "      <td>West</td>\n",
       "      <td>OFF-LA-10000240</td>\n",
       "      <td>Office Supplies</td>\n",
       "      <td>Labels</td>\n",
       "      <td>Self-Adhesive Address Labels for Typewriters b...</td>\n",
       "      <td>14.6200</td>\n",
       "    </tr>\n",
       "    <tr>\n",
       "      <th>3</th>\n",
       "      <td>4</td>\n",
       "      <td>US-2016-108966</td>\n",
       "      <td>11-10-2016</td>\n",
       "      <td>18-10-2016</td>\n",
       "      <td>Standard Class</td>\n",
       "      <td>SO-20335</td>\n",
       "      <td>Sean O'Donnell</td>\n",
       "      <td>Consumer</td>\n",
       "      <td>United States</td>\n",
       "      <td>Fort Lauderdale</td>\n",
       "      <td>Florida</td>\n",
       "      <td>33311.0</td>\n",
       "      <td>South</td>\n",
       "      <td>FUR-TA-10000577</td>\n",
       "      <td>Furniture</td>\n",
       "      <td>Tables</td>\n",
       "      <td>Bretford CR4500 Series Slim Rectangular Table</td>\n",
       "      <td>957.5775</td>\n",
       "    </tr>\n",
       "    <tr>\n",
       "      <th>4</th>\n",
       "      <td>5</td>\n",
       "      <td>US-2016-108966</td>\n",
       "      <td>11-10-2016</td>\n",
       "      <td>18-10-2016</td>\n",
       "      <td>Standard Class</td>\n",
       "      <td>SO-20335</td>\n",
       "      <td>Sean O'Donnell</td>\n",
       "      <td>Consumer</td>\n",
       "      <td>United States</td>\n",
       "      <td>Fort Lauderdale</td>\n",
       "      <td>Florida</td>\n",
       "      <td>33311.0</td>\n",
       "      <td>South</td>\n",
       "      <td>OFF-ST-10000760</td>\n",
       "      <td>Office Supplies</td>\n",
       "      <td>Storage</td>\n",
       "      <td>Eldon Fold 'N Roll Cart System</td>\n",
       "      <td>22.3680</td>\n",
       "    </tr>\n",
       "  </tbody>\n",
       "</table>\n",
       "</div>"
      ],
      "text/plain": [
       "   Row ID        Order ID  Order Date   Ship Date       Ship Mode Customer ID  \\\n",
       "0       1  CA-2017-152156  08-11-2017  11-11-2017    Second Class    CG-12520   \n",
       "1       2  CA-2017-152156  08-11-2017  11-11-2017    Second Class    CG-12520   \n",
       "2       3  CA-2017-138688  12-06-2017  16-06-2017    Second Class    DV-13045   \n",
       "3       4  US-2016-108966  11-10-2016  18-10-2016  Standard Class    SO-20335   \n",
       "4       5  US-2016-108966  11-10-2016  18-10-2016  Standard Class    SO-20335   \n",
       "\n",
       "     Customer Name    Segment        Country             City       State  \\\n",
       "0      Claire Gute   Consumer  United States        Henderson    Kentucky   \n",
       "1      Claire Gute   Consumer  United States        Henderson    Kentucky   \n",
       "2  Darrin Van Huff  Corporate  United States      Los Angeles  California   \n",
       "3   Sean O'Donnell   Consumer  United States  Fort Lauderdale     Florida   \n",
       "4   Sean O'Donnell   Consumer  United States  Fort Lauderdale     Florida   \n",
       "\n",
       "   Postal Code Region       Product ID         Category Sub-Category  \\\n",
       "0      42420.0  South  FUR-BO-10001798        Furniture    Bookcases   \n",
       "1      42420.0  South  FUR-CH-10000454        Furniture       Chairs   \n",
       "2      90036.0   West  OFF-LA-10000240  Office Supplies       Labels   \n",
       "3      33311.0  South  FUR-TA-10000577        Furniture       Tables   \n",
       "4      33311.0  South  OFF-ST-10000760  Office Supplies      Storage   \n",
       "\n",
       "                                        Product Name     Sales  \n",
       "0                  Bush Somerset Collection Bookcase  261.9600  \n",
       "1  Hon Deluxe Fabric Upholstered Stacking Chairs,...  731.9400  \n",
       "2  Self-Adhesive Address Labels for Typewriters b...   14.6200  \n",
       "3      Bretford CR4500 Series Slim Rectangular Table  957.5775  \n",
       "4                     Eldon Fold 'N Roll Cart System   22.3680  "
      ]
     },
     "execution_count": 62,
     "metadata": {},
     "output_type": "execute_result"
    }
   ],
   "source": [
    "df=pd.read_csv(\"C:\\\\Users\\\\Hp\\\\Desktop\\\\train\\\\train.csv\")\n",
    "df.head()"
   ]
  },
  {
   "cell_type": "code",
   "execution_count": 63,
   "id": "1b2fdf93",
   "metadata": {},
   "outputs": [
    {
     "name": "stdout",
     "output_type": "stream",
     "text": [
      "<class 'pandas.core.frame.DataFrame'>\n",
      "RangeIndex: 9800 entries, 0 to 9799\n",
      "Data columns (total 18 columns):\n",
      " #   Column         Non-Null Count  Dtype  \n",
      "---  ------         --------------  -----  \n",
      " 0   Row ID         9800 non-null   int64  \n",
      " 1   Order ID       9800 non-null   object \n",
      " 2   Order Date     9800 non-null   object \n",
      " 3   Ship Date      9800 non-null   object \n",
      " 4   Ship Mode      9800 non-null   object \n",
      " 5   Customer ID    9800 non-null   object \n",
      " 6   Customer Name  9800 non-null   object \n",
      " 7   Segment        9800 non-null   object \n",
      " 8   Country        9800 non-null   object \n",
      " 9   City           9800 non-null   object \n",
      " 10  State          9800 non-null   object \n",
      " 11  Postal Code    9789 non-null   float64\n",
      " 12  Region         9800 non-null   object \n",
      " 13  Product ID     9800 non-null   object \n",
      " 14  Category       9800 non-null   object \n",
      " 15  Sub-Category   9800 non-null   object \n",
      " 16  Product Name   9800 non-null   object \n",
      " 17  Sales          9800 non-null   float64\n",
      "dtypes: float64(2), int64(1), object(15)\n",
      "memory usage: 1.3+ MB\n"
     ]
    }
   ],
   "source": [
    "df.info()"
   ]
  },
  {
   "cell_type": "code",
   "execution_count": 64,
   "id": "a158102e",
   "metadata": {},
   "outputs": [
    {
     "data": {
      "text/plain": [
       "Row ID            0\n",
       "Order ID          0\n",
       "Order Date        0\n",
       "Ship Date         0\n",
       "Ship Mode         0\n",
       "Customer ID       0\n",
       "Customer Name     0\n",
       "Segment           0\n",
       "Country           0\n",
       "City              0\n",
       "State             0\n",
       "Postal Code      11\n",
       "Region            0\n",
       "Product ID        0\n",
       "Category          0\n",
       "Sub-Category      0\n",
       "Product Name      0\n",
       "Sales             0\n",
       "dtype: int64"
      ]
     },
     "execution_count": 64,
     "metadata": {},
     "output_type": "execute_result"
    }
   ],
   "source": [
    "df.isnull().sum()\n"
   ]
  },
  {
   "cell_type": "code",
   "execution_count": 65,
   "id": "0b6c48aa",
   "metadata": {},
   "outputs": [
    {
     "name": "stdout",
     "output_type": "stream",
     "text": [
      "      Row ID        Order ID  Order Date   Ship Date       Ship Mode  \\\n",
      "2234    2235  CA-2018-104066  05-12-2018  10-12-2018  Standard Class   \n",
      "5274    5275  CA-2016-162887  07-11-2016  09-11-2016    Second Class   \n",
      "8798    8799  US-2017-150140  06-04-2017  10-04-2017  Standard Class   \n",
      "9146    9147  US-2017-165505  23-01-2017  27-01-2017  Standard Class   \n",
      "9147    9148  US-2017-165505  23-01-2017  27-01-2017  Standard Class   \n",
      "9148    9149  US-2017-165505  23-01-2017  27-01-2017  Standard Class   \n",
      "9386    9387  US-2018-127292  19-01-2018  23-01-2018  Standard Class   \n",
      "9387    9388  US-2018-127292  19-01-2018  23-01-2018  Standard Class   \n",
      "9388    9389  US-2018-127292  19-01-2018  23-01-2018  Standard Class   \n",
      "9389    9390  US-2018-127292  19-01-2018  23-01-2018  Standard Class   \n",
      "9741    9742  CA-2016-117086  08-11-2016  12-11-2016  Standard Class   \n",
      "\n",
      "     Customer ID     Customer Name      Segment        Country        City  \\\n",
      "2234    QJ-19255      Quincy Jones    Corporate  United States  Burlington   \n",
      "5274    SV-20785  Stewart Visinsky     Consumer  United States  Burlington   \n",
      "8798    VM-21685   Valerie Mitchum  Home Office  United States  Burlington   \n",
      "9146    CB-12535  Claudia Bergmann    Corporate  United States  Burlington   \n",
      "9147    CB-12535  Claudia Bergmann    Corporate  United States  Burlington   \n",
      "9148    CB-12535  Claudia Bergmann    Corporate  United States  Burlington   \n",
      "9386    RM-19375     Raymond Messe     Consumer  United States  Burlington   \n",
      "9387    RM-19375     Raymond Messe     Consumer  United States  Burlington   \n",
      "9388    RM-19375     Raymond Messe     Consumer  United States  Burlington   \n",
      "9389    RM-19375     Raymond Messe     Consumer  United States  Burlington   \n",
      "9741    QJ-19255      Quincy Jones    Corporate  United States  Burlington   \n",
      "\n",
      "        State  Postal Code Region       Product ID         Category  \\\n",
      "2234  Vermont          NaN   East  TEC-AC-10001013       Technology   \n",
      "5274  Vermont          NaN   East  FUR-CH-10000595        Furniture   \n",
      "8798  Vermont          NaN   East  TEC-PH-10002555       Technology   \n",
      "9146  Vermont          NaN   East  TEC-AC-10002926       Technology   \n",
      "9147  Vermont          NaN   East  OFF-AR-10003477  Office Supplies   \n",
      "9148  Vermont          NaN   East  OFF-ST-10001526  Office Supplies   \n",
      "9386  Vermont          NaN   East  OFF-PA-10000157  Office Supplies   \n",
      "9387  Vermont          NaN   East  OFF-PA-10001970  Office Supplies   \n",
      "9388  Vermont          NaN   East  OFF-AP-10000828  Office Supplies   \n",
      "9389  Vermont          NaN   East  OFF-EN-10001509  Office Supplies   \n",
      "9741  Vermont          NaN   East  FUR-BO-10004834        Furniture   \n",
      "\n",
      "     Sub-Category                                       Product Name    Sales  \n",
      "2234  Accessories        Logitech ClearChat Comfort/USB Headset H390   205.03  \n",
      "5274       Chairs                    Safco Contoured Stacking Chairs   715.20  \n",
      "8798       Phones                Nortel Meridian M5316 Digital phone  1294.75  \n",
      "9146  Accessories              Logitech Wireless Marathon Mouse M705    99.98  \n",
      "9147          Art                                  4009 Highlighters     8.04  \n",
      "9148      Storage              Iceberg Mobile Mega Data/Printer Cart  1564.29  \n",
      "9386        Paper                                          Xerox 191    79.92  \n",
      "9387        Paper                                         Xerox 1881    12.28  \n",
      "9388   Appliances                    Avanti 4.4 Cu. Ft. Refrigerator   542.94  \n",
      "9389    Envelopes                          Poly String Tie Envelopes     2.04  \n",
      "9741    Bookcases  Riverside Palais Royal Lawyers Bookcase, Royal...  4404.90  \n"
     ]
    }
   ],
   "source": [
    "missing_postal_code_rows = df[df['Postal Code'].isna()]\n",
    "print(missing_postal_code_rows)\n",
    "#df['Postal Code'] = df['Postal Code'].fillna(df['Postal Code'].mean())"
   ]
  },
  {
   "cell_type": "code",
   "execution_count": 66,
   "id": "64390378",
   "metadata": {},
   "outputs": [
    {
     "name": "stdout",
     "output_type": "stream",
     "text": [
      "Postal codes for Burlington: [27217. 52601.    nan]\n"
     ]
    }
   ],
   "source": [
    "city_name = \"Burlington\"  # Change this to the desired city\n",
    "postal_codes = df[df['City'] == city_name]['Postal Code'].unique()\n",
    "print(f\"Postal codes for {city_name}: {postal_codes}\")\n",
    "#df.isnull().sum()"
   ]
  },
  {
   "cell_type": "code",
   "execution_count": 67,
   "id": "dda6163f",
   "metadata": {},
   "outputs": [
    {
     "name": "stdout",
     "output_type": "stream",
     "text": [
      "      Row ID        Order ID  Order Date   Ship Date       Ship Mode  \\\n",
      "683      684  US-2018-168116  04-11-2018  04-11-2018        Same Day   \n",
      "684      685  US-2018-168116  04-11-2018  04-11-2018        Same Day   \n",
      "1008    1009  US-2018-106705  26-12-2018  01-01-2019  Standard Class   \n",
      "1038    1039  CA-2018-121818  20-11-2018  21-11-2018     First Class   \n",
      "1039    1040  CA-2018-121818  20-11-2018  21-11-2018     First Class   \n",
      "1393    1394  CA-2018-124828  03-07-2018  04-07-2018     First Class   \n",
      "2234    2235  CA-2018-104066  05-12-2018  10-12-2018  Standard Class   \n",
      "2928    2929  US-2018-120390  19-10-2018  26-10-2018  Standard Class   \n",
      "5065    5066  CA-2018-142090  30-11-2018  07-12-2018  Standard Class   \n",
      "5066    5067  CA-2018-142090  30-11-2018  07-12-2018  Standard Class   \n",
      "5274    5275  CA-2016-162887  07-11-2016  09-11-2016    Second Class   \n",
      "8317    8318  CA-2018-130904  11-04-2018  16-04-2018  Standard Class   \n",
      "8318    8319  CA-2018-130904  11-04-2018  16-04-2018  Standard Class   \n",
      "8410    8411  CA-2017-130820  15-11-2017  15-11-2017        Same Day   \n",
      "8798    8799  US-2017-150140  06-04-2017  10-04-2017  Standard Class   \n",
      "9146    9147  US-2017-165505  23-01-2017  27-01-2017  Standard Class   \n",
      "9147    9148  US-2017-165505  23-01-2017  27-01-2017  Standard Class   \n",
      "9148    9149  US-2017-165505  23-01-2017  27-01-2017  Standard Class   \n",
      "9209    9210  CA-2018-142776  11-12-2018  14-12-2018    Second Class   \n",
      "9210    9211  CA-2018-142776  11-12-2018  14-12-2018    Second Class   \n",
      "9386    9387  US-2018-127292  19-01-2018  23-01-2018  Standard Class   \n",
      "9387    9388  US-2018-127292  19-01-2018  23-01-2018  Standard Class   \n",
      "9388    9389  US-2018-127292  19-01-2018  23-01-2018  Standard Class   \n",
      "9389    9390  US-2018-127292  19-01-2018  23-01-2018  Standard Class   \n",
      "9741    9742  CA-2016-117086  08-11-2016  12-11-2016  Standard Class   \n",
      "\n",
      "     Customer ID      Customer Name      Segment        Country        City  \\\n",
      "683     GT-14635     Grant Thornton    Corporate  United States  Burlington   \n",
      "684     GT-14635     Grant Thornton    Corporate  United States  Burlington   \n",
      "1008    PO-18850    Patrick O'Brill     Consumer  United States  Burlington   \n",
      "1038    JH-15430  Jennifer Halladay     Consumer  United States  Burlington   \n",
      "1039    JH-15430  Jennifer Halladay     Consumer  United States  Burlington   \n",
      "1393    YS-21880      Yana Sorensen    Corporate  United States  Burlington   \n",
      "2234    QJ-19255       Quincy Jones    Corporate  United States  Burlington   \n",
      "2928    TH-21550      Tracy Hopkins  Home Office  United States  Burlington   \n",
      "5065    SC-20380   Shahid Collister     Consumer  United States  Burlington   \n",
      "5066    SC-20380   Shahid Collister     Consumer  United States  Burlington   \n",
      "5274    SV-20785   Stewart Visinsky     Consumer  United States  Burlington   \n",
      "8317    HM-14980  Henry MacAllister     Consumer  United States  Burlington   \n",
      "8318    HM-14980  Henry MacAllister     Consumer  United States  Burlington   \n",
      "8410    ON-18715      Odella Nelson    Corporate  United States  Burlington   \n",
      "8798    VM-21685    Valerie Mitchum  Home Office  United States  Burlington   \n",
      "9146    CB-12535   Claudia Bergmann    Corporate  United States  Burlington   \n",
      "9147    CB-12535   Claudia Bergmann    Corporate  United States  Burlington   \n",
      "9148    CB-12535   Claudia Bergmann    Corporate  United States  Burlington   \n",
      "9209    RS-19870         Roy Skaria  Home Office  United States  Burlington   \n",
      "9210    RS-19870         Roy Skaria  Home Office  United States  Burlington   \n",
      "9386    RM-19375      Raymond Messe     Consumer  United States  Burlington   \n",
      "9387    RM-19375      Raymond Messe     Consumer  United States  Burlington   \n",
      "9388    RM-19375      Raymond Messe     Consumer  United States  Burlington   \n",
      "9389    RM-19375      Raymond Messe     Consumer  United States  Burlington   \n",
      "9741    QJ-19255       Quincy Jones    Corporate  United States  Burlington   \n",
      "\n",
      "               State  Postal Code   Region       Product ID         Category  \\\n",
      "683   North Carolina      27217.0    South  TEC-MA-10004125       Technology   \n",
      "684   North Carolina      27217.0    South  OFF-AP-10002457  Office Supplies   \n",
      "1008            Iowa      52601.0  Central  OFF-PA-10001509  Office Supplies   \n",
      "1038  North Carolina      27217.0    South  OFF-AR-10000203  Office Supplies   \n",
      "1039  North Carolina      27217.0    South  OFF-AR-10004790  Office Supplies   \n",
      "1393  North Carolina      27217.0    South  OFF-AR-10003514  Office Supplies   \n",
      "2234         Vermont          NaN     East  TEC-AC-10001013       Technology   \n",
      "2928  North Carolina      27217.0    South  OFF-BI-10004995  Office Supplies   \n",
      "5065  North Carolina      27217.0    South  TEC-AC-10002001       Technology   \n",
      "5066  North Carolina      27217.0    South  FUR-TA-10001889        Furniture   \n",
      "5274         Vermont          NaN     East  FUR-CH-10000595        Furniture   \n",
      "8317  North Carolina      27217.0    South  OFF-AR-10000422  Office Supplies   \n",
      "8318  North Carolina      27217.0    South  OFF-AR-10000127  Office Supplies   \n",
      "8410  North Carolina      27217.0    South  FUR-TA-10001768        Furniture   \n",
      "8798         Vermont          NaN     East  TEC-PH-10002555       Technology   \n",
      "9146         Vermont          NaN     East  TEC-AC-10002926       Technology   \n",
      "9147         Vermont          NaN     East  OFF-AR-10003477  Office Supplies   \n",
      "9148         Vermont          NaN     East  OFF-ST-10001526  Office Supplies   \n",
      "9209            Iowa      52601.0  Central  OFF-EN-10003160  Office Supplies   \n",
      "9210            Iowa      52601.0  Central  OFF-BI-10002012  Office Supplies   \n",
      "9386         Vermont          NaN     East  OFF-PA-10000157  Office Supplies   \n",
      "9387         Vermont          NaN     East  OFF-PA-10001970  Office Supplies   \n",
      "9388         Vermont          NaN     East  OFF-AP-10000828  Office Supplies   \n",
      "9389         Vermont          NaN     East  OFF-EN-10001509  Office Supplies   \n",
      "9741         Vermont          NaN     East  FUR-BO-10004834        Furniture   \n",
      "\n",
      "     Sub-Category                                       Product Name     Sales  \n",
      "683      Machines          Cubify CubeX 3D Printer Triple Head Print  7999.980  \n",
      "684    Appliances  Eureka The Boss Plus 12-Amp Hard Box Upright V...   167.440  \n",
      "1008        Paper  Recycled Desk Saver Line \"While You Were Out\" ...    44.750  \n",
      "1038          Art                                         Newell 336    23.968  \n",
      "1039          Art                            Staples in misc. colors    28.728  \n",
      "1393          Art                       4009 Highlighters by Sanford     9.552  \n",
      "2234  Accessories        Logitech ClearChat Comfort/USB Headset H390   205.030  \n",
      "2928      Binders          GBC DocuBind P400 Electric Binding System  1633.188  \n",
      "5065  Accessories              Logitech Wireless Gaming Headset G930   383.976  \n",
      "5066       Tables  Bush Advantage Collection Racetrack Conference...  1781.682  \n",
      "5274       Chairs                    Safco Contoured Stacking Chairs   715.200  \n",
      "8317          Art                        Pencil and Crayon Sharpener     1.752  \n",
      "8318          Art                                         Newell 321    20.992  \n",
      "8410       Tables                    Hon Racetrack Conference Tables   630.024  \n",
      "8798       Phones                Nortel Meridian M5316 Digital phone  1294.750  \n",
      "9146  Accessories              Logitech Wireless Marathon Mouse M705    99.980  \n",
      "9147          Art                                  4009 Highlighters     8.040  \n",
      "9148      Storage              Iceberg Mobile Mega Data/Printer Cart  1564.290  \n",
      "9209    Envelopes                              Pastel Pink Envelopes     7.280  \n",
      "9210      Binders            Wilson Jones Easy Flow II Sheet Lifters     5.400  \n",
      "9386        Paper                                          Xerox 191    79.920  \n",
      "9387        Paper                                         Xerox 1881    12.280  \n",
      "9388   Appliances                    Avanti 4.4 Cu. Ft. Refrigerator   542.940  \n",
      "9389    Envelopes                          Poly String Tie Envelopes     2.040  \n",
      "9741    Bookcases  Riverside Palais Royal Lawyers Bookcase, Royal...  4404.900  \n"
     ]
    }
   ],
   "source": [
    "print(df[df['City'] == 'Burlington'])"
   ]
  },
  {
   "cell_type": "code",
   "execution_count": 68,
   "id": "0c5d6599",
   "metadata": {},
   "outputs": [],
   "source": [
    "df['Postal Code'].fillna(27217.0, inplace=True)  # Fill missing Postal Code values"
   ]
  },
  {
   "cell_type": "code",
   "execution_count": 69,
   "id": "b90fcd12",
   "metadata": {},
   "outputs": [
    {
     "data": {
      "text/plain": [
       "Row ID           0\n",
       "Order ID         0\n",
       "Order Date       0\n",
       "Ship Date        0\n",
       "Ship Mode        0\n",
       "Customer ID      0\n",
       "Customer Name    0\n",
       "Segment          0\n",
       "Country          0\n",
       "City             0\n",
       "State            0\n",
       "Postal Code      0\n",
       "Region           0\n",
       "Product ID       0\n",
       "Category         0\n",
       "Sub-Category     0\n",
       "Product Name     0\n",
       "Sales            0\n",
       "dtype: int64"
      ]
     },
     "execution_count": 69,
     "metadata": {},
     "output_type": "execute_result"
    }
   ],
   "source": [
    "df.isnull().sum()"
   ]
  },
  {
   "cell_type": "code",
   "execution_count": 70,
   "id": "e04618e4",
   "metadata": {},
   "outputs": [],
   "source": [
    "# Convert 'order_date' to datetime\n",
    "#df['Order Date'] = pd.to_datetime(df['Order Date'],  format='%d/%m/%Y')\n",
    "df['Order Date'] = pd.to_datetime(df['Order Date'], dayfirst=True, errors='coerce')\n",
    "df['Ship Date'] = pd.to_datetime(df['Ship Date'], dayfirst=True, errors='coerce')"
   ]
  },
  {
   "cell_type": "code",
   "execution_count": 71,
   "id": "1473ea30",
   "metadata": {},
   "outputs": [
    {
     "name": "stdout",
     "output_type": "stream",
     "text": [
      "Row ID           0\n",
      "Order ID         0\n",
      "Order Date       0\n",
      "Ship Date        0\n",
      "Ship Mode        0\n",
      "Customer ID      0\n",
      "Customer Name    0\n",
      "Segment          0\n",
      "Country          0\n",
      "City             0\n",
      "State            0\n",
      "Postal Code      0\n",
      "Region           0\n",
      "Product ID       0\n",
      "Category         0\n",
      "Sub-Category     0\n",
      "Product Name     0\n",
      "Sales            0\n",
      "dtype: int64\n"
     ]
    }
   ],
   "source": [
    "print(df.isna().sum())"
   ]
  },
  {
   "cell_type": "code",
   "execution_count": 72,
   "id": "ae7dc98c",
   "metadata": {},
   "outputs": [
    {
     "data": {
      "text/html": [
       "<div>\n",
       "<style scoped>\n",
       "    .dataframe tbody tr th:only-of-type {\n",
       "        vertical-align: middle;\n",
       "    }\n",
       "\n",
       "    .dataframe tbody tr th {\n",
       "        vertical-align: top;\n",
       "    }\n",
       "\n",
       "    .dataframe thead th {\n",
       "        text-align: right;\n",
       "    }\n",
       "</style>\n",
       "<table border=\"1\" class=\"dataframe\">\n",
       "  <thead>\n",
       "    <tr style=\"text-align: right;\">\n",
       "      <th></th>\n",
       "      <th>Row ID</th>\n",
       "      <th>Order ID</th>\n",
       "      <th>Order Date</th>\n",
       "      <th>Ship Date</th>\n",
       "      <th>Ship Mode</th>\n",
       "      <th>Customer ID</th>\n",
       "      <th>Customer Name</th>\n",
       "      <th>Segment</th>\n",
       "      <th>Country</th>\n",
       "      <th>City</th>\n",
       "      <th>State</th>\n",
       "      <th>Postal Code</th>\n",
       "      <th>Region</th>\n",
       "      <th>Product ID</th>\n",
       "      <th>Category</th>\n",
       "      <th>Sub-Category</th>\n",
       "      <th>Product Name</th>\n",
       "      <th>Sales</th>\n",
       "    </tr>\n",
       "  </thead>\n",
       "  <tbody>\n",
       "  </tbody>\n",
       "</table>\n",
       "</div>"
      ],
      "text/plain": [
       "Empty DataFrame\n",
       "Columns: [Row ID, Order ID, Order Date, Ship Date, Ship Mode, Customer ID, Customer Name, Segment, Country, City, State, Postal Code, Region, Product ID, Category, Sub-Category, Product Name, Sales]\n",
       "Index: []"
      ]
     },
     "execution_count": 72,
     "metadata": {},
     "output_type": "execute_result"
    }
   ],
   "source": [
    "# detect duplicated records\n",
    "df[df.duplicated(subset = None, keep = False)]"
   ]
  },
  {
   "cell_type": "code",
   "execution_count": 73,
   "id": "a970374c",
   "metadata": {},
   "outputs": [],
   "source": [
    "# drop Country\n",
    "df = df.drop(['Country'], axis = 1)"
   ]
  },
  {
   "cell_type": "code",
   "execution_count": 74,
   "id": "10a6ab45",
   "metadata": {},
   "outputs": [
    {
     "name": "stdout",
     "output_type": "stream",
     "text": [
      "Total Late Deliveries: 1668\n",
      "Percentage of Late Deliveries: 17.02%\n",
      "          Order ID Customer ID       Ship Mode  Delivery Time (days)  \\\n",
      "3   US-2016-108966    SO-20335  Standard Class                     7   \n",
      "4   US-2016-108966    SO-20335  Standard Class                     7   \n",
      "16  CA-2015-105893    PK-19075  Standard Class                     7   \n",
      "18  CA-2015-143336    ZD-21925    Second Class                     5   \n",
      "19  CA-2015-143336    ZD-21925    Second Class                     5   \n",
      "\n",
      "    Expected Delivery (days)  \n",
      "3                          6  \n",
      "4                          6  \n",
      "16                         6  \n",
      "18                         4  \n",
      "19                         4  \n"
     ]
    }
   ],
   "source": [
    "import pandas as pd\n",
    "\n",
    "# Calculate actual delivery time\n",
    "df['Delivery Time (days)'] = (df['Ship Date'] - df['Order Date']).dt.days\n",
    "\n",
    "# Define expected delivery time based on Ship Mode\n",
    "expected_delivery = {\n",
    "    'Same Day': 0,    # Same day delivery\n",
    "    'First Class': 2,  # Typically 1-2 days\n",
    "    'Second Class': 4, # Typically 3-4 days\n",
    "    'Standard Class': 6 # Typically 5-7 days\n",
    "}\n",
    "\n",
    "# Map expected delivery times\n",
    "df['Expected Delivery (days)'] = df['Ship Mode'].map(expected_delivery)\n",
    "\n",
    "# Identify late deliveries\n",
    "df['Late Delivery'] = df['Delivery Time (days)'] > df['Expected Delivery (days)']\n",
    "\n",
    "# Count late deliveries\n",
    "late_delivery_count = df['Late Delivery'].sum()\n",
    "total_orders = len(df)\n",
    "late_delivery_percentage = (late_delivery_count / total_orders) * 100\n",
    "\n",
    "# Display results\n",
    "print(f\"Total Late Deliveries: {late_delivery_count}\")\n",
    "print(f\"Percentage of Late Deliveries: {late_delivery_percentage:.2f}%\")\n",
    "\n",
    "# View late delivery details\n",
    "late_deliveries = df[df['Late Delivery'] == True]\n",
    "print(late_deliveries[['Order ID', 'Customer ID', 'Ship Mode', 'Delivery Time (days)', 'Expected Delivery (days)']].head())\n",
    "\n"
   ]
  },
  {
   "cell_type": "code",
   "execution_count": 75,
   "id": "31c90a5b",
   "metadata": {},
   "outputs": [
    {
     "name": "stdout",
     "output_type": "stream",
     "text": [
      "Region\n",
      "Central    390\n",
      "East       446\n",
      "South      254\n",
      "West       578\n",
      "Name: Late Delivery, dtype: int64\n"
     ]
    }
   ],
   "source": [
    "# Late deliveries by Region\n",
    "print(df[df['Late Delivery'] == True].groupby('Region')['Late Delivery'].count())\n",
    "\n"
   ]
  },
  {
   "cell_type": "code",
   "execution_count": 76,
   "id": "dd57fc05",
   "metadata": {},
   "outputs": [
    {
     "name": "stdout",
     "output_type": "stream",
     "text": [
      "Index(['Row ID', 'Order ID', 'Order Date', 'Ship Date', 'Ship Mode',\n",
      "       'Customer ID', 'Customer Name', 'Segment', 'City', 'State',\n",
      "       'Postal Code', 'Region', 'Product ID', 'Category', 'Sub-Category',\n",
      "       'Product Name', 'Sales', 'Delivery Time (days)',\n",
      "       'Expected Delivery (days)', 'Late Delivery'],\n",
      "      dtype='object')\n"
     ]
    }
   ],
   "source": [
    "print(df.columns)"
   ]
  },
  {
   "cell_type": "code",
   "execution_count": 27,
   "id": "43c79edb",
   "metadata": {},
   "outputs": [],
   "source": []
  },
  {
   "cell_type": "code",
   "execution_count": 77,
   "id": "7f4a7334",
   "metadata": {},
   "outputs": [
    {
     "name": "stderr",
     "output_type": "stream",
     "text": [
      "C:\\Users\\Hp\\AppData\\Local\\Temp\\ipykernel_19648\\1314963192.py:6: FutureWarning: \n",
      "\n",
      "Passing `palette` without assigning `hue` is deprecated and will be removed in v0.14.0. Assign the `x` variable to `hue` and set `legend=False` for the same effect.\n",
      "\n",
      "  sns.countplot(x='Region', data=df[df['Late Delivery']], palette='coolwarm', order=df['Region'].value_counts().index)\n"
     ]
    },
    {
     "data": {
      "image/png": "[encoded data removed]",
      "text/plain": [
       "<Figure size 800x500 with 1 Axes>"
      ]
     },
     "metadata": {},
     "output_type": "display_data"
    },
    {
     "name": "stderr",
     "output_type": "stream",
     "text": [
      "C:\\Users\\Hp\\AppData\\Local\\Temp\\ipykernel_19648\\1314963192.py:14: FutureWarning: \n",
      "\n",
      "Passing `palette` without assigning `hue` is deprecated and will be removed in v0.14.0. Assign the `x` variable to `hue` and set `legend=False` for the same effect.\n",
      "\n",
      "  sns.countplot(x='Ship Mode', data=df[df['Late Delivery']], palette='viridis', order=df['Ship Mode'].value_counts().index)\n"
     ]
    },
    {
     "data": {
      "image/png": "[encoded data removed]",
      "text/plain": [
       "<Figure size 800x500 with 1 Axes>"
      ]
     },
     "metadata": {},
     "output_type": "display_data"
    }
   ],
   "source": [
    "import seaborn as sns\n",
    "# ----------------- Bar Chart -----------------\n",
    "\n",
    "# Late Deliveries by Region\n",
    "plt.figure(figsize=(8,5))\n",
    "sns.countplot(x='Region', data=df[df['Late Delivery']], palette='coolwarm', order=df['Region'].value_counts().index)\n",
    "plt.title('Late Deliveries by Region')\n",
    "plt.xlabel('Region')\n",
    "plt.ylabel('Number of Late Deliveries')\n",
    "plt.xticks(rotation=45)\n",
    "plt.show()\n",
    "# Late Deliveries by Ship Mode\n",
    "plt.figure(figsize=(8,5))\n",
    "sns.countplot(x='Ship Mode', data=df[df['Late Delivery']], palette='viridis', order=df['Ship Mode'].value_counts().index)\n",
    "plt.title('Late Deliveries by Ship Mode')\n",
    "plt.xlabel('Shipping Method')\n",
    "plt.ylabel('Number of Late Deliveries')\n",
    "plt.xticks(rotation=45)\n",
    "plt.show()\n",
    "\n",
    "\n",
    "\n"
   ]
  },
  {
   "cell_type": "code",
   "execution_count": null,
   "id": "ef5c2141",
   "metadata": {},
   "outputs": [],
   "source": [
    "\n"
   ]
  },
  {
   "cell_type": "code",
   "execution_count": 88,
   "id": "30381f27",
   "metadata": {},
   "outputs": [
    {
     "name": "stdout",
     "output_type": "stream",
     "text": [
      "                              OLS Regression Results                             \n",
      "=================================================================================\n",
      "Dep. Variable:     Delivery Delay (Days)   R-squared:                       0.680\n",
      "Model:                               OLS   Adj. R-squared:                  0.680\n",
      "Method:                    Least Squares   F-statistic:                     5212.\n",
      "Date:                   Fri, 07 Mar 2025   Prob (F-statistic):               0.00\n",
      "Time:                           17:02:28   Log-Likelihood:                -13798.\n",
      "No. Observations:                   9800   AIC:                         2.761e+04\n",
      "Df Residuals:                       9795   BIC:                         2.764e+04\n",
      "Df Model:                              4                                         \n",
      "Covariance Type:               nonrobust                                         \n",
      "============================================================================================\n",
      "                               coef    std err          t      P>|t|      [0.025      0.975]\n",
      "--------------------------------------------------------------------------------------------\n",
      "const                        2.0860      0.026     79.336      0.000       2.034       2.138\n",
      "Order Volume              1.449e-08   3.34e-08      0.434      0.664    -5.1e-08       8e-08\n",
      "Ship Mode_Second Class       1.1504      0.022     53.144      0.000       1.108       1.193\n",
      "Ship Mode_Standard Class     2.9094      0.016    179.276      0.000       2.878       2.941\n",
      "Ship Mode_First Class        0.0803      0.024      3.417      0.001       0.034       0.126\n",
      "Ship Mode_Same Day          -2.0542      0.035    -58.034      0.000      -2.124      -1.985\n",
      "==============================================================================\n",
      "Omnibus:                     1386.053   Durbin-Watson:                   0.978\n",
      "Prob(Omnibus):                  0.000   Jarque-Bera (JB):              642.652\n",
      "Skew:                           0.460   Prob(JB):                    2.82e-140\n",
      "Kurtosis:                       2.146   Cond. No.                     3.36e+20\n",
      "==============================================================================\n",
      "\n",
      "Notes:\n",
      "[1] Standard Errors assume that the covariance matrix of the errors is correctly specified.\n",
      "[2] The smallest eigenvalue is 7.69e-26. This might indicate that there are\n",
      "strong multicollinearity problems or that the design matrix is singular.\n"
     ]
    }
   ],
   "source": [
    "import pandas as pd\n",
    "import statsmodels.api as sm\n",
    "\n",
    "#df = pd.get_dummies(df, columns=['Ship Mode'], drop_first=False)\n",
    "#df = pd.get_dummies(df, columns=['Region'], drop_first=False)\n",
    "#print(df.columns)\n",
    "\n",
    "# Define \"Order Volume\" based on total sales per region\n",
    "df['Order Volume'] = (\n",
    "    df.groupby(df[['Region_East', 'Region_South', 'Region_West']].idxmax(axis=1))['Sales']\n",
    "    .transform('sum')\n",
    ")\n",
    "\n",
    "# Calculate actual delivery days\n",
    "df['Delivery Delay (Days)'] = (df['Ship Date'] - df['Order Date']).dt.days\n",
    "\n",
    "# Drop rows with missing values in important columns\n",
    "df = df.dropna(subset=['Order Volume', 'Sales', 'Delivery Delay (Days)'])\n",
    "\n",
    "# Define independent variables (predictors)\n",
    "X = df[['Order Volume', 'Ship Mode_Second Class', 'Ship Mode_Standard Class', 'Ship Mode_First Class','Ship Mode_Same Day']]\n",
    "y = df['Delivery Delay (Days)']  # Target variable\n",
    "\n",
    "# Ensure all values are numeric\n",
    "X = X.astype(float)\n",
    "y = y.astype(float)\n",
    "\n",
    "# Add a constant for regression intercept\n",
    "X = sm.add_constant(X)\n",
    "\n",
    "# Fit the regression model\n",
    "model = sm.OLS(y, X).fit()\n",
    "\n",
    "# Print summary\n",
    "print(model.summary())\n"
   ]
  },
  {
   "cell_type": "code",
   "execution_count": null,
   "id": "a1398ea0",
   "metadata": {},
   "outputs": [],
   "source": []
  },
  {
   "cell_type": "code",
   "execution_count": null,
   "id": "4c35c773",
   "metadata": {},
   "outputs": [],
   "source": []
  }
 ],
 "metadata": {
  "kernelspec": {
   "display_name": "Python 3 (ipykernel)",
   "language": "python",
   "name": "python3"
  },
  "language_info": {
   "codemirror_mode": {
    "name": "ipython",
    "version": 3
   },
   "file_extension": ".py",
   "mimetype": "text/x-python",
   "name": "python",
   "nbconvert_exporter": "python",
   "pygments_lexer": "ipython3",
   "version": "3.11.4"
  }
 },
 "nbformat": 4,
 "nbformat_minor": 5
}
